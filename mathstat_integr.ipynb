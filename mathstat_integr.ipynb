{
 "cells": [
  {
   "cell_type": "code",
   "execution_count": 110,
   "metadata": {},
   "outputs": [
    {
     "name": "stdout",
     "output_type": "stream",
     "text": [
      "0.07319012386574658\n"
     ]
    }
   ],
   "source": [
    "from scipy.stats import chi2\n",
    "from scipy import integrate\n",
    "from numpy import inf\n",
    "\n",
    "df = 9\n",
    "delta = 15.71\n",
    "\n",
    "def f(x):\n",
    "    return chi2.pdf(x,df)\n",
    "\n",
    "v, err = integrate.quad(f, delta, inf)\n",
    "print(v)"
   ]
  },
  {
   "cell_type": "code",
   "execution_count": 38,
   "metadata": {},
   "outputs": [
    {
     "data": {
      "text/plain": [
       "20.48264235764236"
      ]
     },
     "execution_count": 38,
     "metadata": {},
     "output_type": "execute_result"
    }
   ],
   "source": [
    "import numpy as np\n",
    "\n",
    "n = 200\n",
    "nij = np.array([[25,50,25],\n",
    "              [52,41,7]])\n",
    "pa = np.array([[0.385,0.455,0.16],[0.385,0.455,0.16]])\n",
    "pb = np.array([[0.5,0.5,0.5],[0.5,0.5,0.5]])\n",
    "\n",
    "res = (nij-n*pa*pb)**2/(n*pa*pb)\n",
    "sum(sum(res))"
   ]
  },
  {
   "cell_type": "code",
   "execution_count": 43,
   "metadata": {},
   "outputs": [
    {
     "data": {
      "text/plain": [
       "1.2335897435897436"
      ]
     },
     "execution_count": 43,
     "metadata": {},
     "output_type": "execute_result"
    }
   ],
   "source": [
    "import numpy as np\n",
    "\n",
    "n = 300\n",
    "nij = np.array([33,43,80,144])\n",
    "pa = np.array([0.12,0.13,0.25,0.5])\n",
    "\n",
    "res = (nij-n*pa)**2/(n*pa)\n",
    "sum(res)"
   ]
  },
  {
   "cell_type": "code",
   "execution_count": 45,
   "metadata": {},
   "outputs": [
    {
     "data": {
      "text/plain": [
       "0.8869230769230769"
      ]
     },
     "execution_count": 45,
     "metadata": {},
     "output_type": "execute_result"
    }
   ],
   "source": [
    "import numpy as np\n",
    "\n",
    "n = 300\n",
    "nij = np.array([39,35,72,154])\n",
    "pa = np.array([0.12,0.13,0.25,0.5])\n",
    "\n",
    "res = (nij-n*pa)**2/(n*pa)\n",
    "sum(res)"
   ]
  },
  {
   "cell_type": "code",
   "execution_count": 52,
   "metadata": {},
   "outputs": [
    {
     "data": {
      "text/plain": [
       "16.4"
      ]
     },
     "execution_count": 52,
     "metadata": {},
     "output_type": "execute_result"
    }
   ],
   "source": [
    "import numpy as np\n",
    "\n",
    "n = 100\n",
    "nij = np.array([5,8,6,12,14,18,11,6,13,7])\n",
    "pa = np.array([0.1,0.1,0.1,0.1,0.1,0.1,0.1,0.1,0.1,0.1])\n",
    "\n",
    "res = (nij-n*pa)**2/(n*pa)\n",
    "sum(res)"
   ]
  },
  {
   "cell_type": "code",
   "execution_count": 106,
   "metadata": {},
   "outputs": [
    {
     "name": "stdout",
     "output_type": "stream",
     "text": [
      "Optimization terminated successfully.\n",
      "         Current function value: -308073870.103377\n",
      "         Iterations: 61\n",
      "         Function evaluations: 118\n",
      "[5.26999336 2.48865278]\n"
     ]
    }
   ],
   "source": [
    "from scipy import integrate\n",
    "\n",
    "ns = np.array([5,8,6,12,14,18,11,6,13,7])\n",
    "otrs = [[0,1],[1,2],[2,3],[3,4],[4,5],[5,6],[6,7],[7,8],[8,9],[9,10]]\n",
    "\n",
    "def L(t):\n",
    "    def f(x):\n",
    "        return np.exp(-(x-t[0])**2/(2*t[1]**2))/(t[1]*(2*np.pi)**0.5)\n",
    "    global ns, otrs\n",
    "    p = []\n",
    "    for i in range(10):\n",
    "        v, err = integrate.quad(f, otrs[i][0], otrs[i][1])\n",
    "        p.append(v)\n",
    "    p = np.array(p)\n",
    "    return -np.prod(p**ns)*10**110\n",
    "\n",
    "from scipy.optimize import minimize\n",
    "x0 = np.array([5,1])\n",
    "res = minimize(L, x0, method='nelder-mead',\n",
    "    options={'disp': True})\n",
    "print(res.x)"
   ]
  },
  {
   "cell_type": "code",
   "execution_count": 109,
   "metadata": {},
   "outputs": [
    {
     "data": {
      "text/plain": [
       "15.712084085652958"
      ]
     },
     "execution_count": 109,
     "metadata": {},
     "output_type": "execute_result"
    }
   ],
   "source": [
    "t = [5.26999336, 2.48865278]\n",
    "n = 100\n",
    "ns = np.array([5,8,6,12,14,18,11,6,13,7])\n",
    "otrs = [[0,1],[1,2],[2,3],[3,4],[4,5],[5,6],[6,7],[7,8],[8,9],[9,10]]\n",
    "\n",
    "def f(x):\n",
    "    global t\n",
    "    return np.exp(-(x-t[0])**2/(2*t[1]**2))/(t[1]*(2*np.pi)**0.5)\n",
    "p = []\n",
    "for i in range(10):\n",
    "    v, err = integrate.quad(f, otrs[i][0], otrs[i][1])\n",
    "    p.append(v)\n",
    "p = np.array(p)\n",
    "\n",
    "res = (ns-n*p)**2/(n*p)\n",
    "sum(res)"
   ]
  },
  {
   "cell_type": "code",
   "execution_count": 115,
   "metadata": {},
   "outputs": [
    {
     "name": "stdout",
     "output_type": "stream",
     "text": [
      "0.2930516756457975\n"
     ]
    }
   ],
   "source": [
    "from scipy.stats import t\n",
    "from scipy import integrate\n",
    "from numpy import inf\n",
    "\n",
    "df = 2\n",
    "delta = 0.643\n",
    "\n",
    "def f(x):\n",
    "    return t.pdf(x,df)\n",
    "\n",
    "v, err = integrate.quad(f, -inf, -delta)\n",
    "print(v)"
   ]
  },
  {
   "cell_type": "code",
   "execution_count": 14,
   "metadata": {},
   "outputs": [
    {
     "data": {
      "text/plain": [
       "0.15453805538450627"
      ]
     },
     "execution_count": 14,
     "metadata": {},
     "output_type": "execute_result"
    },
    {
     "data": {
      "image/png": "[encoded data removed]",
      "text/plain": [
       "<Figure size 432x288 with 1 Axes>"
      ]
     },
     "metadata": {
      "needs_background": "light"
     },
     "output_type": "display_data"
    }
   ],
   "source": [
    "import numpy as np\n",
    "import matplotlib.pyplot as plt\n",
    "\n",
    "def f(x):\n",
    "    r = 0\n",
    "    for i in range(1,101):\n",
    "        r += (-1)**i*np.exp(-i**2*x**2)\n",
    "    return 1+2*r\n",
    "\n",
    "x = np.linspace(0.05,5,999)\n",
    "y = f(x)\n",
    "\n",
    "plt.plot(x,y)\n",
    "\n",
    "\n",
    "delta = 1.6\n",
    "\n",
    "1-f(delta)"
   ]
  },
  {
   "cell_type": "code",
   "execution_count": null,
   "metadata": {},
   "outputs": [],
   "source": []
  }
 ],
 "metadata": {
  "kernelspec": {
   "display_name": "Python 3",
   "language": "python",
   "name": "python3"
  },
  "language_info": {
   "codemirror_mode": {
    "name": "ipython",
    "version": 3
   },
   "file_extension": ".py",
   "mimetype": "text/x-python",
   "name": "python",
   "nbconvert_exporter": "python",
   "pygments_lexer": "ipython3",
   "version": "3.8.3"
  }
 },
 "nbformat": 4,
 "nbformat_minor": 4
}
