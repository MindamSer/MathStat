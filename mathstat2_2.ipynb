{
 "cells": [
  {
   "cell_type": "code",
   "execution_count": 45,
   "metadata": {},
   "outputs": [],
   "source": [
    "import numpy as np\n",
    "#import copy\n",
    "#from scipy.stats import uniform\n",
    "#from scipy.stats import norm\n",
    "from scipy.stats import t\n",
    "from scipy import integrate"
   ]
  },
  {
   "cell_type": "code",
   "execution_count": 46,
   "metadata": {},
   "outputs": [],
   "source": [
    "X = np.array([[1,0,0,0,0,83],\n",
    "              [1,0,0,0,0,85],\n",
    "              [0,1,0,0,0,84],\n",
    "              [0,1,0,0,0,85],\n",
    "              [0,1,0,0,0,85],\n",
    "              [0,1,0,0,0,86],\n",
    "              [0,1,0,0,0,86],\n",
    "              [0,1,0,0,0,87],\n",
    "              [0,0,1,0,0,86],\n",
    "              [0,0,1,0,0,87],\n",
    "              [0,0,1,0,0,87],\n",
    "              [0,0,1,0,0,87],\n",
    "              [0,0,1,0,0,88],\n",
    "              [0,0,1,0,0,88],\n",
    "              [0,0,1,0,0,88],\n",
    "              [0,0,1,0,0,88],\n",
    "              [0,0,1,0,0,88],\n",
    "              [0,0,1,0,0,89],\n",
    "              [0,0,1,0,0,90],\n",
    "              [0,0,0,1,0,89],\n",
    "              [0,0,0,1,0,90],\n",
    "              [0,0,0,1,0,90],\n",
    "              [0,0,0,1,0,91],\n",
    "              [0,0,0,0,1,90],\n",
    "              [0,0,0,0,1,92]])"
   ]
  },
  {
   "cell_type": "code",
   "execution_count": 47,
   "metadata": {},
   "outputs": [],
   "source": [
    "def lin_regr(X):\n",
    "    N, dim = X.shape[0], X.shape[1] - 1\n",
    "    \n",
    "    PSI = X.T[0:dim].T\n",
    "    Y = X.T[dim].T\n",
    "\n",
    "    F = np.matmul(PSI.T,PSI)\n",
    "    F1 = np.linalg.inv(F)\n",
    "    BETA = np.matmul(np.matmul(F1,PSI.T),Y)\n",
    "    \n",
    "    e = Y - np.matmul(PSI,BETA)\n",
    "    RSS = np.matmul(e.T,e)\n",
    "    TSS = np.sum((Y-np.mean(Y))**2)\n",
    "    R = (1 - RSS/TSS)**0.5\n",
    "    \n",
    "    PVAL = []\n",
    "    for i in range(len(BETA)):\n",
    "        df = N-dim\n",
    "        delta = BETA[i]*(df)**0.5/(RSS*F1[i][i])**0.5\n",
    "        \n",
    "        def func(x):\n",
    "            return t.pdf(x, df, loc=0, scale=1)\n",
    "        pval, err = integrate.quad(func, np.abs(delta), np.inf)\n",
    "        PVAL.append(2*pval)\n",
    "    \n",
    "    PVALD = []\n",
    "    INDS = []\n",
    "    for i in range(len(BETA)-1):\n",
    "        for j in range(i+1,len(BETA)):\n",
    "            INDS.append((i,j))\n",
    "            df = N-dim\n",
    "            delta = (BETA[i]-BETA[j])*(df)**0.5/(RSS*(F1[i][i]+F1[j][j]))**0.5\n",
    "            \n",
    "            def func(x):\n",
    "                return t.pdf(x, df, loc=0, scale=1)\n",
    "            pval, err = integrate.quad(func, np.abs(delta), np.inf)\n",
    "            PVALD.append(2*pval)\n",
    "       \n",
    "    return (BETA, R, PVAL, INDS, PVALD)"
   ]
  },
  {
   "cell_type": "code",
   "execution_count": 48,
   "metadata": {},
   "outputs": [],
   "source": [
    "def regr_info(X):\n",
    "    beta,r,pval,inds,pvald = lin_regr(X)\n",
    "    \n",
    "    mnoj = [f\"{round(beta[0],2)}\"]+[f\"({round(beta[i+1],2)})*x{i+1}\" for i in range(beta.shape[0]-1)]\n",
    "    urav = \" + \".join(mnoj)\n",
    "    print(\"Уравнение лин. регрессии:\\n\"+urav+\"\\n\")\n",
    "    \n",
    "    alpha = 0.05\n",
    "    print(\"При этом коэфф.:\")\n",
    "    for i in range(len(pval)):\n",
    "        ne = \"не \"\n",
    "        if pval[i]<alpha:\n",
    "            ne = \"\"\n",
    "        print(f\"\\tb{i} {ne}явл. значимым с p-val = {round(pval[i],4)}\")\n",
    "    print()\n",
    "        \n",
    "    print(f\"Коэфф. детерм. R = {r}\\n\")\n",
    "    \n",
    "    print(\"Попарно коэфф.:\")\n",
    "    for i in range(len(pvald)):\n",
    "        ne = \"=\"\n",
    "        if pvald[i]<alpha:\n",
    "            ne = \"!=\"\n",
    "        print(f\"\\tb{inds[i][0]} {ne} b{inds[i][1]} с p-val = {round(pvald[i],4)}\")\n",
    "    print()"
   ]
  },
  {
   "cell_type": "code",
   "execution_count": 49,
   "metadata": {},
   "outputs": [
    {
     "name": "stdout",
     "output_type": "stream",
     "text": [
      "Уравнение лин. регрессии:\n",
      "84.0 + (85.5)*x1 + (87.82)*x2 + (90.0)*x3 + (91.0)*x4\n",
      "\n",
      "При этом коэфф.:\n",
      "\tb0 явл. значимым с p-val = 0.0\n",
      "\tb1 явл. значимым с p-val = 0.0\n",
      "\tb2 явл. значимым с p-val = 0.0\n",
      "\tb3 явл. значимым с p-val = 0.0\n",
      "\tb4 явл. значимым с p-val = 0.0\n",
      "\n",
      "Коэфф. детерм. R = 0.90033663737852\n",
      "\n",
      "Попарно коэфф.:\n",
      "\tb0 = b1 с p-val = 0.1031\n",
      "\tb0 != b2 с p-val = 0.0002\n",
      "\tb0 != b3 с p-val = 0.0\n",
      "\tb0 != b4 с p-val = 0.0\n",
      "\tb1 != b2 с p-val = 0.0004\n",
      "\tb1 != b3 с p-val = 0.0\n",
      "\tb1 != b4 с p-val = 0.0\n",
      "\tb2 != b3 с p-val = 0.0024\n",
      "\tb2 != b4 с p-val = 0.001\n",
      "\tb3 = b4 с p-val = 0.2958\n",
      "\n"
     ]
    }
   ],
   "source": [
    "regr_info(X)"
   ]
  },
  {
   "cell_type": "code",
   "execution_count": null,
   "metadata": {},
   "outputs": [],
   "source": []
  }
 ],
 "metadata": {
  "kernelspec": {
   "display_name": "Python 3",
   "language": "python",
   "name": "python3"
  },
  "language_info": {
   "codemirror_mode": {
    "name": "ipython",
    "version": 3
   },
   "file_extension": ".py",
   "mimetype": "text/x-python",
   "name": "python",
   "nbconvert_exporter": "python",
   "pygments_lexer": "ipython3",
   "version": "3.8.3"
  }
 },
 "nbformat": 4,
 "nbformat_minor": 4
}
