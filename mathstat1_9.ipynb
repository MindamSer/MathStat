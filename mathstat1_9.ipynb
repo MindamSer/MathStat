{
 "cells": [
  {
   "cell_type": "code",
   "execution_count": 25,
   "metadata": {},
   "outputs": [
    {
     "name": "stdout",
     "output_type": "stream",
     "text": [
      "Оценённая тета: [5.26999342 2.48865294]\n",
      "Оценённая дельта: 1.9030051300588813\n",
      "0.44056\n"
     ]
    },
    {
     "data": {
      "image/png": "[encoded data removed]",
      "text/plain": [
       "<Figure size 432x288 with 1 Axes>"
      ]
     },
     "metadata": {
      "needs_background": "light"
     },
     "output_type": "display_data"
    }
   ],
   "source": [
    "import numpy as np\n",
    "from scipy import integrate\n",
    "import matplotlib.pyplot as plt\n",
    "from scipy.stats import norm\n",
    "from scipy.optimize import minimize\n",
    "\n",
    "def normp(x,t1,t2):\n",
    "    return np.exp(-(x-t1)**2/(2*t2**2))/(t2*(2*np.pi)**0.5)\n",
    "\n",
    "def tetas(x):\n",
    "    def L(t):\n",
    "        def f(x):\n",
    "            return normp(x,t[0],t[1])\n",
    "        l = 1\n",
    "        for i in range(10):\n",
    "            st = 0\n",
    "            for v in x:\n",
    "                if i <= v < i+1:\n",
    "                    st+=1\n",
    "            v, err = integrate.quad(f, i, i+1)\n",
    "            l = l*v**st\n",
    "        return -l*10**110\n",
    "    \n",
    "    x0 = np.array([5,5])\n",
    "    res = minimize(L, x0, method='nelder-mead')\n",
    "    return res.x\n",
    "\n",
    "def bootstrap(n, teta, d, kol):\n",
    "    deltas = []\n",
    "    \n",
    "    for k in range(kol):\n",
    "        a = norm.rvs(loc=teta[0], scale=teta[1], size=n)\n",
    "        a = [max(0,min(9,int(c))) for c in a]\n",
    "        x = np.array(a)\n",
    "        t1 = sum(x)/n\n",
    "        t2 = sum((x - t1)**2)/(n-1)\n",
    "        teta_oc = [t1, t2]\n",
    "        \n",
    "        def integrand(x):\n",
    "            global teta_oc\n",
    "            return normp(x,teta_oc[0],teta_oc[1])\n",
    "        \n",
    "        ns = np.array([a.count(i) for i in range(10)])\n",
    "        \n",
    "        F = []\n",
    "        for i in range(10):\n",
    "            v, err = integrate.quad(integrand, 0, i)\n",
    "            F.append(v)\n",
    "        FF = np.array([F,F])\n",
    "        \n",
    "        F_oc = np.array([[sum(ns[0:i]) for i in range(10)]+ns,[sum(ns[0:i]) for i in range(10)]])/n\n",
    "        \n",
    "        delta_oc = n**0.5*np.max(np.abs(FF-F_oc))\n",
    "        \n",
    "        deltas.append(delta_oc)\n",
    "        \n",
    "        #plt.plot(F)\n",
    "        #plt.plot(F_oc[0])\n",
    "        #plt.plot(F_oc[1])\n",
    "        \n",
    "    deltas.sort()\n",
    "    k=0\n",
    "    while deltas[k]<d:\n",
    "        k+=1\n",
    "    return (k-1)/kol\n",
    "\n",
    "\n",
    "n = 100\n",
    "xs = np.linspace(0,9,10)\n",
    "ns = np.array([5,8,6,12,14,18,11,6,13,7])\n",
    "x = []\n",
    "for i in range(10):\n",
    "    for j in range(ns[i]):\n",
    "        x.append(i)\n",
    "x = np.array(x)\n",
    "\n",
    "#t1 = sum(x)/n\n",
    "#t2 = (sum((x - t1)**2)/(n-1))**0.5\n",
    "#teta_oc = [t1, t2]\n",
    "teta_oc = tetas(x)\n",
    "print(f\"Оценённая тета: {teta_oc}\")\n",
    "\n",
    "def integrand(x):\n",
    "    global teta_oc\n",
    "    return normp(x,teta_oc[0],teta_oc[1])\n",
    "\n",
    "F = []\n",
    "for i in range(10):\n",
    "    v, err = integrate.quad(integrand, 0, i)\n",
    "    F.append(v)\n",
    "F = np.array(F)\n",
    "FF = np.array([F,F])\n",
    "        \n",
    "F_oc = np.array([[sum(ns[0:i]) for i in range(10)]+ns,[sum(ns[0:i]) for i in range(10)]])/n\n",
    "\n",
    "plt.plot(F)\n",
    "plt.plot(F_oc[0])\n",
    "plt.plot(F_oc[1])\n",
    "\n",
    "delta_oc = n**0.5*np.max(np.abs(FF-F_oc))\n",
    "print(f\"Оценённая дельта: {delta_oc}\")\n",
    "\n",
    "pval = bootstrap(n, teta_oc, delta_oc, 50000)\n",
    "print(pval)"
   ]
  }
 ],
 "metadata": {
  "kernelspec": {
   "display_name": "Python 3",
   "language": "python",
   "name": "python3"
  },
  "language_info": {
   "codemirror_mode": {
    "name": "ipython",
    "version": 3
   },
   "file_extension": ".py",
   "mimetype": "text/x-python",
   "name": "python",
   "nbconvert_exporter": "python",
   "pygments_lexer": "ipython3",
   "version": "3.8.3"
  }
 },
 "nbformat": 4,
 "nbformat_minor": 4
}
