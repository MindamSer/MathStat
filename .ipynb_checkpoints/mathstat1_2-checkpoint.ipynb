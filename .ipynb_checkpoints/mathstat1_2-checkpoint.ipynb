{
 "cells": [
  {
   "cell_type": "code",
   "execution_count": 57,
   "metadata": {},
   "outputs": [],
   "source": [
    "import numpy as np\n",
    "import matplotlib.pyplot as plt\n",
    "import random\n",
    "from collections import Counter \n",
    "\n",
    "def v_mean(v):\n",
    "    return sum(v) / len(v);\n",
    "\n",
    "def v_moda(v):\n",
    "    c = Counter(v) \n",
    "    return [k for k, v in c.items() if v == c.most_common(1)[0][1]] \n",
    "\n",
    "def v_median(v):\n",
    "    n = len(v) \n",
    "    cind = n // 2 \n",
    "    if n % 2: \n",
    "        return sorted(v)[cind] \n",
    "    return sum(sorted(v)[cind - 1:cind + 1]) / 2\n",
    "\n",
    "def v_razm(v):\n",
    "    return max(v) - min(v)\n",
    "\n",
    "def v_assim(v):\n",
    "    m2 = v_mean((v - v_mean(v))**2)\n",
    "    m3 = v_mean((v - v_mean(v))**3)\n",
    "    return m3/(m2**(3/2))"
   ]
  },
  {
   "cell_type": "code",
   "execution_count": 66,
   "metadata": {},
   "outputs": [
    {
     "data": {
      "text/plain": [
       "array([1.12, 0.02, 0.9 , 0.38, 0.6 , 0.19, 1.88, 0.12, 1.58, 1.09, 2.99,\n",
       "       1.3 , 0.34, 2.09, 1.42, 0.26, 0.91, 0.99, 2.73, 0.24, 4.12, 0.34,\n",
       "       1.09, 0.8 , 0.54])"
      ]
     },
     "execution_count": 66,
     "metadata": {},
     "output_type": "execute_result"
    }
   ],
   "source": [
    "Lambd = 1\n",
    "N = 25\n",
    "\n",
    "x = np.array([round(random.expovariate(Lambd),2) for i in range(N)])\n",
    "x"
   ]
  },
  {
   "cell_type": "code",
   "execution_count": 67,
   "metadata": {},
   "outputs": [
    {
     "name": "stdout",
     "output_type": "stream",
     "text": [
      "1.1216000000000002\n",
      "[1.09, 0.34]\n",
      "0.91\n",
      "4.1\n",
      "1.3882776030536448\n"
     ]
    }
   ],
   "source": [
    "print(v_mean(x))\n",
    "print(v_moda(x))\n",
    "print(v_median(x))\n",
    "print(round(v_razm(x),2))\n",
    "print(v_assim(x))"
   ]
  },
  {
   "cell_type": "code",
   "execution_count": 61,
   "metadata": {},
   "outputs": [
    {
     "data": {
      "text/plain": [
       "array([1, 4, 9], dtype=int32)"
      ]
     },
     "execution_count": 61,
     "metadata": {},
     "output_type": "execute_result"
    }
   ],
   "source": []
  }
 ],
 "metadata": {
  "kernelspec": {
   "display_name": "Python 3",
   "language": "python",
   "name": "python3"
  },
  "language_info": {
   "codemirror_mode": {
    "name": "ipython",
    "version": 3
   },
   "file_extension": ".py",
   "mimetype": "text/x-python",
   "name": "python",
   "nbconvert_exporter": "python",
   "pygments_lexer": "ipython3",
   "version": "3.8.3"
  }
 },
 "nbformat": 4,
 "nbformat_minor": 4
}
