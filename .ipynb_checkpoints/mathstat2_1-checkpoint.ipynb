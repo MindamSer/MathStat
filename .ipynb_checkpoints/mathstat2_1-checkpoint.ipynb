{
 "cells": [
  {
   "cell_type": "code",
   "execution_count": 3,
   "metadata": {},
   "outputs": [],
   "source": [
    "import numpy as np\n",
    "import copy\n",
    "from random import randint\n",
    "from scipy.stats import uniform\n",
    "from scipy.stats import norm\n",
    "from scipy.stats import t\n",
    "from scipy.stats import f\n",
    "from scipy import integrate\n",
    "\n",
    "N = 50\n",
    "kof = np.array([3,-2,1,1,-1]).T\n",
    "\n",
    "def ran_vec():\n",
    "    global kof\n",
    "    xi = uniform.rvs(scale=2, size=5) - 1\n",
    "    sr = 2 + np.matmul(xi,kof)\n",
    "    eta = norm.rvs(loc=sr, scale=1.5, size=1)\n",
    "    return np.concatenate((xi,eta))\n",
    "    \n",
    "def make_vyb(N):\n",
    "    return np.array([ran_vec() for i in range(N)])"
   ]
  },
  {
   "cell_type": "code",
   "execution_count": 4,
   "metadata": {},
   "outputs": [],
   "source": [
    "def lin_regr(X):\n",
    "    N, dim = X.shape[0], X.shape[1] - 1\n",
    "    Y = X.T[dim].T\n",
    "    \n",
    "    PSI = np.array([[1]+[X[j][i] for i in range(dim)] for j in range(N)])\n",
    "    F = np.matmul(PSI.T,PSI)\n",
    "    F1 = np.linalg.inv(F)\n",
    "    BETA = np.matmul(np.matmul(F1,PSI.T),Y)\n",
    "    \n",
    "    e = Y - np.matmul(PSI,BETA)\n",
    "    RSS = np.matmul(e.T,e)\n",
    "    TSS = np.sum((Y-np.mean(Y))**2)\n",
    "    R = (1 - RSS/TSS)**0.5\n",
    "    \n",
    "    PVAL = []\n",
    "    for i in range(len(BETA)):\n",
    "        df = N-dim\n",
    "        delta = BETA[i]*(df)**0.5/(RSS*F1[i][i])**0.5\n",
    "        \n",
    "        def func(x):\n",
    "            return t.pdf(x, df, loc=0, scale=1)\n",
    "        pval, err = integrate.quad(func, np.abs(delta), np.inf)\n",
    "        PVAL.append(2*pval)\n",
    "        \n",
    "    return (BETA, R, PVAL, e)"
   ]
  },
  {
   "cell_type": "code",
   "execution_count": 5,
   "metadata": {},
   "outputs": [],
   "source": [
    "def regr_info(X):\n",
    "    beta,r,pval,err = lin_regr(X)\n",
    "    \n",
    "    mnoj = [f\"{round(beta[0],2)}\"]+[f\"({round(beta[i+1],2)})*x{i+1}\" for i in range(beta.shape[0]-1)]\n",
    "    urav = \" + \".join(mnoj)\n",
    "    print(\"Уравнение лин. регрессии:\\n\"+urav+\"\\n\")\n",
    "    \n",
    "    alpha = 0.05\n",
    "    print(\"При этом коэфф.:\")\n",
    "    for i in range(len(pval)):\n",
    "        ne = \"не \"\n",
    "        if pval[i]<alpha:\n",
    "            ne = \"\"\n",
    "        print(f\"\\tb{i} {ne}явл. значимым с p-val = {round(pval[i],4)}\")\n",
    "    print()\n",
    "        \n",
    "    print(f\"Коэфф. детерм. R = {r}\")"
   ]
  },
  {
   "cell_type": "code",
   "execution_count": 6,
   "metadata": {},
   "outputs": [],
   "source": [
    "def mul_koll(X):\n",
    "    N, dim = X.shape[0], X.shape[1] - 1\n",
    "    Rs = []\n",
    "    for k in range(dim):\n",
    "        X_ = copy.copy(X.T)\n",
    "        X_[dim] = X_[k]\n",
    "        X_ = np.delete(X_,k,0).T\n",
    "        beta,r,pval,err = lin_regr(X_)\n",
    "        Rs.append(r)\n",
    "    \n",
    "    return Rs"
   ]
  },
  {
   "cell_type": "code",
   "execution_count": 7,
   "metadata": {},
   "outputs": [],
   "source": [
    "def koll_info(X):\n",
    "    Rdov = 0.7\n",
    "    R = mul_koll(X)\n",
    "    \n",
    "    for k in range(len(R)):\n",
    "        print(f\"x{k+1}:\")\n",
    "        if R[k]>=Rdov:\n",
    "            print(f\"\\tR={round(R[k],2)} > {Rdov}\\n\\t x{k+1} лин. зависима от остальных\")\n",
    "        else:\n",
    "            print(f\"\\tR={round(R[k],2)} < {Rdov}\\n\\t x{k+1} лин. не зависима от остальных\")\n",
    "        print()"
   ]
  },
  {
   "cell_type": "code",
   "execution_count": 51,
   "metadata": {},
   "outputs": [],
   "source": [
    "def x0_dover(X, x0):\n",
    "    N, dim = X.shape[0], X.shape[1] - 1\n",
    "    Y = X.T[dim].T\n",
    "    \n",
    "    PSI = np.array([[1]+[X[j][i] for i in range(dim)] for j in range(N)])\n",
    "    F = np.matmul(PSI.T,PSI)\n",
    "    F1 = np.linalg.inv(F)\n",
    "    BETA = np.matmul(np.matmul(F1,PSI.T),Y)\n",
    "    \n",
    "    e = Y - np.matmul(PSI,BETA)\n",
    "    RSS = np.matmul(e.T,e)\n",
    "    \n",
    "    PSI0x = np.array([1]+[x0[i] for i in range(dim)])\n",
    "    A = 1+np.matmul(np.matmul(PSI0x,F1),PSI0x.T)\n",
    "    y0 = np.matmul(PSI0x,BETA.T)\n",
    "    dov = np.array([-2.0086,2.0086])\n",
    "    dov = y0 + dov*((A*RSS)/(N-dim))**0.5\n",
    "    \n",
    "    return y0,dov"
   ]
  },
  {
   "cell_type": "code",
   "execution_count": 52,
   "metadata": {},
   "outputs": [],
   "source": [
    "def dover_info(X, x0):\n",
    "    y0,dov = x0_dover(X, x0)\n",
    "    print(f\"Прогноз в точке x0 = {x0}:\\n\\ty0 = {y0}\\nДовер. интервал\\n\\t{dov}\")"
   ]
  },
  {
   "cell_type": "code",
   "execution_count": 57,
   "metadata": {},
   "outputs": [],
   "source": [
    "def prov_osh(X):\n",
    "    beta,r,pval,err = lin_regr(X)\n",
    "    n = len(err)\n",
    "    I = 0\n",
    "    for i in range(n-1):\n",
    "        for j in range(i+1,n):\n",
    "            if err[i]>err[j]:\n",
    "                I+=1\n",
    "    delta = (I-n*(n-1)/4)/(n**3/36)**0.5\n",
    "    pval, err = integrate.quad(norm.pdf, np.abs(delta), np.inf)\n",
    "    pval = 2*pval\n",
    "    \n",
    "    alpha = 0.05\n",
    "    h0 = pval>alpha\n",
    "    ne = \"не \"\n",
    "    if h0:\n",
    "        ne = \"\"\n",
    "    print(f\"pval = {pval}\\nГипотеза H0 {ne}является правдоподобной\\nОшибки {ne}являются независимыми\")"
   ]
  },
  {
   "cell_type": "code",
   "execution_count": 10,
   "metadata": {},
   "outputs": [],
   "source": [
    "def vybr_info(X):\n",
    "    beta,r,pval,err = lin_regr(X)\n",
    "    \n",
    "    e_a = np.abs(err)\n",
    "    m = np.median(e_a)\n",
    "    sigma = m/0.675\n",
    "    edge = 2*sigma\n",
    "    print(\"Выбросы выборки:\")\n",
    "    for i in range(len(err)):\n",
    "        if not(-edge<err[i]<edge):\n",
    "            print(f\"\\te{i} = {err[i]} != ({round(-edge,2)};{round(edge,2)})\")"
   ]
  },
  {
   "cell_type": "code",
   "execution_count": 11,
   "metadata": {},
   "outputs": [],
   "source": [
    "def cross_check(X):\n",
    "    N, dim = X.shape[0], X.shape[1] - 1\n",
    "    CV = []\n",
    "    Y = X.T[dim].T\n",
    "    \n",
    "    for i in range(N):\n",
    "        X_ = copy.copy(X)\n",
    "        check_v = X_[i]\n",
    "        X_ = np.delete(X_,i,0)\n",
    "        \n",
    "        beta,r,pval,err = lin_regr(X_)\n",
    "        zn = np.concatenate((np.array([1]),check_v[0:dim]))\n",
    "        y_oc = sum(zn*beta)\n",
    "        CV.append((y_oc - check_v[dim])**2)\n",
    "    \n",
    "    CVSS = sum(CV)\n",
    "    TSS = np.sum((Y-np.mean(Y))**2)\n",
    "    RCV = ((TSS-CVSS)/TSS)**0.5\n",
    "    \n",
    "    return RCV"
   ]
  },
  {
   "cell_type": "code",
   "execution_count": 12,
   "metadata": {},
   "outputs": [],
   "source": [
    "def cross_info(X):\n",
    "    r = cross_check(X)\n",
    "    print(f\"Коэфф. детерм. Rcv = {r}\")"
   ]
  },
  {
   "cell_type": "code",
   "execution_count": 13,
   "metadata": {},
   "outputs": [],
   "source": [
    "def adekv_check(X, n):\n",
    "    N, dim = X.shape[0], X.shape[1] - 1\n",
    "    Y = X.T[dim].T\n",
    "    \n",
    "    PSI = np.array([[1]+[X[j][i] for i in range(dim)] for j in range(N)])\n",
    "    F = np.matmul(PSI.T,PSI)\n",
    "    F1 = np.linalg.inv(F)\n",
    "    BETA = np.matmul(np.matmul(F1,PSI.T),Y)\n",
    "    \n",
    "    e = Y - np.matmul(PSI,BETA)\n",
    "    RSS = np.matmul(e.T,e)\n",
    "    \n",
    "    global kof\n",
    "    x0 = uniform.rvs(scale=2, size=dim) - 1\n",
    "    print(f\"Проверка в точке x0 = {x0}, {n} раз\")\n",
    "    \n",
    "    sr = 2 + np.matmul(x0,kof)\n",
    "    eta = norm.rvs(loc=sr, scale=1.5, size=n)\n",
    "    me = np.mean(eta)\n",
    "    sigma = np.sum((eta-me)**2)/(n-1)\n",
    "    delta = RSS/((N-dim)*sigma)\n",
    "    \n",
    "    alpha = 0.05\n",
    "    def func(x):\n",
    "        return f.pdf(x, N-dim, n-1)\n",
    "    pval, err = integrate.quad(func, delta, np.inf)\n",
    "    h0 = pval>alpha\n",
    "    ne = \"не \"\n",
    "    if h0:\n",
    "        ne = \"\"\n",
    "    print(f\"pval = {pval}\\nГипотеза H0 {ne}является правдоподобной\\nРегрессия {ne}является адекватной\")"
   ]
  },
  {
   "cell_type": "code",
   "execution_count": 15,
   "metadata": {},
   "outputs": [],
   "source": [
    "def del_maxp(X):\n",
    "    beta,r,pval,err = lin_regr(X)\n",
    "    minzn = np.max(pval)\n",
    "    index = pval.index(minzn)\n",
    "    print(f\"Наим. значимость (pval = {round(minzn,2)}) имеет b{index}\")\n",
    "    return np.delete(X.T,index,0).T"
   ]
  },
  {
   "cell_type": "code",
   "execution_count": 33,
   "metadata": {},
   "outputs": [],
   "source": [
    "def bootstrap(X, todel, n):\n",
    "    N, dim = X.shape[0], X.shape[1] - 1\n",
    "    \n",
    "    beta,r,pval,err = lin_regr(X)\n",
    "    r2 = r*r\n",
    "    X_ = np.delete(X.T,todel,0).T\n",
    "    \n",
    "    beta,r,pval,err = lin_regr(X_)\n",
    "    r12 = r*r\n",
    "    \n",
    "    d = r2-r12\n",
    "    \n",
    "    deltas = []\n",
    "    for k in range(n):\n",
    "        podX = np.array([X[randint(0,N-1)] for i in range(N)])\n",
    "        podXdel = np.delete(podX.T,todel,0).T\n",
    "        \n",
    "        beta,r,pval,err = lin_regr(podX)\n",
    "        r2 = r*r\n",
    "        beta,r,pval,err = lin_regr(podXdel)\n",
    "        r12 = r*r\n",
    "        delta = r2-r12\n",
    "        \n",
    "        deltas.append(delta)\n",
    "    \n",
    "    deltas.sort()\n",
    "    k=0\n",
    "    while deltas[k]<d:\n",
    "        k+=1\n",
    "    return (k-1)/n"
   ]
  },
  {
   "cell_type": "code",
   "execution_count": 36,
   "metadata": {},
   "outputs": [],
   "source": [
    "def bootstrap_info(X):\n",
    "    regr_info(X)\n",
    "    print()\n",
    "    X_del = del_maxp(X)\n",
    "    print()\n",
    "    regr_info(X_del)\n",
    "    print()\n",
    "    \n",
    "    beta,r,pval,err = lin_regr(X)\n",
    "    minzn = np.max(pval)\n",
    "    index = pval.index(minzn)\n",
    "    \n",
    "    pval = bootstrap(X, index, 1000)\n",
    "    \n",
    "    alpha = 0.05\n",
    "    ne = \"не \"\n",
    "    if pval<alpha:\n",
    "        ne = \"\"\n",
    "    print(f\"Удаление переменой {ne}имеет смысл(a) т.к. pval = {pval}\")"
   ]
  },
  {
   "cell_type": "code",
   "execution_count": 24,
   "metadata": {},
   "outputs": [
    {
     "name": "stdout",
     "output_type": "stream",
     "text": [
      "(50, 6)\n"
     ]
    }
   ],
   "source": [
    "X = make_vyb(N)\n",
    "print(X.shape)"
   ]
  },
  {
   "cell_type": "code",
   "execution_count": 25,
   "metadata": {},
   "outputs": [
    {
     "name": "stdout",
     "output_type": "stream",
     "text": [
      "x1:\n",
      "\tR=0.21 < 0.7\n",
      "\t x1 лин. не зависима от остальных\n",
      "\n",
      "x2:\n",
      "\tR=0.31 < 0.7\n",
      "\t x2 лин. не зависима от остальных\n",
      "\n",
      "x3:\n",
      "\tR=0.31 < 0.7\n",
      "\t x3 лин. не зависима от остальных\n",
      "\n",
      "x4:\n",
      "\tR=0.27 < 0.7\n",
      "\t x4 лин. не зависима от остальных\n",
      "\n",
      "x5:\n",
      "\tR=0.24 < 0.7\n",
      "\t x5 лин. не зависима от остальных\n",
      "\n"
     ]
    }
   ],
   "source": [
    "koll_info(X)"
   ]
  },
  {
   "cell_type": "code",
   "execution_count": 26,
   "metadata": {},
   "outputs": [
    {
     "name": "stdout",
     "output_type": "stream",
     "text": [
      "Уравнение лин. регрессии:\n",
      "1.67 + (3.4)*x1 + (-1.76)*x2 + (0.69)*x3 + (1.28)*x4 + (-1.53)*x5\n",
      "\n",
      "При этом коэфф.:\n",
      "\tb0 явл. значимым с p-val = 0.0\n",
      "\tb1 явл. значимым с p-val = 0.0\n",
      "\tb2 явл. значимым с p-val = 0.0\n",
      "\tb3 явл. значимым с p-val = 0.0376\n",
      "\tb4 явл. значимым с p-val = 0.0011\n",
      "\tb5 явл. значимым с p-val = 0.0001\n",
      "\n",
      "Коэфф. детерм. R = 0.8851489295287048\n"
     ]
    }
   ],
   "source": [
    "regr_info(X)"
   ]
  },
  {
   "cell_type": "code",
   "execution_count": 55,
   "metadata": {},
   "outputs": [
    {
     "name": "stdout",
     "output_type": "stream",
     "text": [
      "Прогноз в точке x0 = [0 0 0 0 0]:\n",
      "\ty0 = 1.67169024866366\n",
      "Довер. интервал\n",
      "\t[-1.14209568  4.48547618]\n"
     ]
    }
   ],
   "source": [
    "x0 = np.array([0 for i in range(5)])\n",
    "\n",
    "dover_info(X, x0)"
   ]
  },
  {
   "cell_type": "code",
   "execution_count": 58,
   "metadata": {},
   "outputs": [
    {
     "name": "stdout",
     "output_type": "stream",
     "text": [
      "pval = 0.44001931095321856\n",
      "Гипотеза H0 является правдоподобной\n",
      "Ошибки являются независимыми\n"
     ]
    }
   ],
   "source": [
    "prov_osh(X)"
   ]
  },
  {
   "cell_type": "code",
   "execution_count": 27,
   "metadata": {},
   "outputs": [
    {
     "name": "stdout",
     "output_type": "stream",
     "text": [
      "Выбросы выборки:\n"
     ]
    }
   ],
   "source": [
    "vybr_info(X)"
   ]
  },
  {
   "cell_type": "code",
   "execution_count": 28,
   "metadata": {},
   "outputs": [
    {
     "name": "stdout",
     "output_type": "stream",
     "text": [
      "Коэфф. детерм. Rcv = 0.848914799992312\n"
     ]
    }
   ],
   "source": [
    "cross_info(X)"
   ]
  },
  {
   "cell_type": "code",
   "execution_count": 29,
   "metadata": {},
   "outputs": [
    {
     "name": "stdout",
     "output_type": "stream",
     "text": [
      "Проверка в точке x0 = [-0.55441062 -0.89112991  0.03335005 -0.07872059  0.88140777], 5 раз\n",
      "pval = 0.14084534798741224\n",
      "Гипотеза H0 является правдоподобной\n",
      "Регрессия является адекватной\n"
     ]
    }
   ],
   "source": [
    "adekv_check(X, 5)"
   ]
  },
  {
   "cell_type": "code",
   "execution_count": 31,
   "metadata": {},
   "outputs": [
    {
     "name": "stdout",
     "output_type": "stream",
     "text": [
      "Наим. значимость (pval = 0.04) имеет b3\n",
      "\n",
      "Уравнение лин. регрессии:\n",
      "1.76 + (3.22)*x1 + (-1.55)*x2 + (0.66)*x3 + (-1.38)*x4\n",
      "\n",
      "При этом коэфф.:\n",
      "\tb0 явл. значимым с p-val = 0.0\n",
      "\tb1 явл. значимым с p-val = 0.0\n",
      "\tb2 явл. значимым с p-val = 0.0001\n",
      "\tb3 не явл. значимым с p-val = 0.0733\n",
      "\tb4 явл. значимым с p-val = 0.0011\n",
      "\n",
      "Коэфф. детерм. R = 0.8515004650987709\n"
     ]
    }
   ],
   "source": [
    "X_del = del_maxp(X)\n",
    "print()\n",
    "regr_info(X_del)"
   ]
  },
  {
   "cell_type": "code",
   "execution_count": 37,
   "metadata": {},
   "outputs": [
    {
     "name": "stdout",
     "output_type": "stream",
     "text": [
      "Уравнение лин. регрессии:\n",
      "1.67 + (3.4)*x1 + (-1.76)*x2 + (0.69)*x3 + (1.28)*x4 + (-1.53)*x5\n",
      "\n",
      "При этом коэфф.:\n",
      "\tb0 явл. значимым с p-val = 0.0\n",
      "\tb1 явл. значимым с p-val = 0.0\n",
      "\tb2 явл. значимым с p-val = 0.0\n",
      "\tb3 явл. значимым с p-val = 0.0376\n",
      "\tb4 явл. значимым с p-val = 0.0011\n",
      "\tb5 явл. значимым с p-val = 0.0001\n",
      "\n",
      "Коэфф. детерм. R = 0.8851489295287048\n",
      "\n",
      "Наим. значимость (pval = 0.04) имеет b3\n",
      "\n",
      "Уравнение лин. регрессии:\n",
      "1.76 + (3.22)*x1 + (-1.55)*x2 + (0.66)*x3 + (-1.38)*x4\n",
      "\n",
      "При этом коэфф.:\n",
      "\tb0 явл. значимым с p-val = 0.0\n",
      "\tb1 явл. значимым с p-val = 0.0\n",
      "\tb2 явл. значимым с p-val = 0.0001\n",
      "\tb3 не явл. значимым с p-val = 0.0733\n",
      "\tb4 явл. значимым с p-val = 0.0011\n",
      "\n",
      "Коэфф. детерм. R = 0.8515004650987709\n",
      "\n",
      "Удаление переменой не имеет смысл(a) т.к. pval = 0.543\n"
     ]
    }
   ],
   "source": [
    "bootstrap_info(X)"
   ]
  },
  {
   "cell_type": "code",
   "execution_count": null,
   "metadata": {},
   "outputs": [],
   "source": []
  },
  {
   "cell_type": "code",
   "execution_count": null,
   "metadata": {},
   "outputs": [],
   "source": []
  }
 ],
 "metadata": {
  "kernelspec": {
   "display_name": "Python 3",
   "language": "python",
   "name": "python3"
  },
  "language_info": {
   "codemirror_mode": {
    "name": "ipython",
    "version": 3
   },
   "file_extension": ".py",
   "mimetype": "text/x-python",
   "name": "python",
   "nbconvert_exporter": "python",
   "pygments_lexer": "ipython3",
   "version": "3.8.3"
  }
 },
 "nbformat": 4,
 "nbformat_minor": 4
}
